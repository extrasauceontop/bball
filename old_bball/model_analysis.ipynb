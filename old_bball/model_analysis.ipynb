{
 "cells": [
  {
   "cell_type": "code",
   "execution_count": 240,
   "metadata": {},
   "outputs": [],
   "source": [
    "import pandas as pd\n",
    "import os\n",
    "import numpy as np"
   ]
  },
  {
   "cell_type": "code",
   "execution_count": 241,
   "metadata": {},
   "outputs": [
    {
     "name": "stderr",
     "output_type": "stream",
     "text": [
      "C:\\Users\\msuch\\Anaconda3\\envs\\PythonData\\lib\\site-packages\\ipykernel_launcher.py:3: SettingWithCopyWarning: \n",
      "A value is trying to be set on a copy of a slice from a DataFrame.\n",
      "Try using .loc[row_indexer,col_indexer] = value instead\n",
      "\n",
      "See the caveats in the documentation: http://pandas.pydata.org/pandas-docs/stable/user_guide/indexing.html#returning-a-view-versus-a-copy\n",
      "  This is separate from the ipykernel package so we can avoid doing imports until\n"
     ]
    }
   ],
   "source": [
    "df = pd.read_csv(\"../../data/tested.csv\")\n",
    "df_anal = df[[\"outcomes_game_x\", \"outcomes_game_x_preds\"]]\n",
    "df_anal[\"pred_outcome\"] = df[\"outcomes_game_x_preds\"].round(0)"
   ]
  },
  {
   "cell_type": "code",
   "execution_count": 242,
   "metadata": {},
   "outputs": [
    {
     "name": "stderr",
     "output_type": "stream",
     "text": [
      "C:\\Users\\msuch\\Anaconda3\\envs\\PythonData\\lib\\site-packages\\ipykernel_launcher.py:1: SettingWithCopyWarning: \n",
      "A value is trying to be set on a copy of a slice from a DataFrame.\n",
      "Try using .loc[row_indexer,col_indexer] = value instead\n",
      "\n",
      "See the caveats in the documentation: http://pandas.pydata.org/pandas-docs/stable/user_guide/indexing.html#returning-a-view-versus-a-copy\n",
      "  \"\"\"Entry point for launching an IPython kernel.\n",
      "C:\\Users\\msuch\\Anaconda3\\envs\\PythonData\\lib\\site-packages\\ipykernel_launcher.py:2: SettingWithCopyWarning: \n",
      "A value is trying to be set on a copy of a slice from a DataFrame.\n",
      "Try using .loc[row_indexer,col_indexer] = value instead\n",
      "\n",
      "See the caveats in the documentation: http://pandas.pydata.org/pandas-docs/stable/user_guide/indexing.html#returning-a-view-versus-a-copy\n",
      "  \n"
     ]
    },
    {
     "data": {
      "text/html": [
       "<div>\n",
       "<style scoped>\n",
       "    .dataframe tbody tr th:only-of-type {\n",
       "        vertical-align: middle;\n",
       "    }\n",
       "\n",
       "    .dataframe tbody tr th {\n",
       "        vertical-align: top;\n",
       "    }\n",
       "\n",
       "    .dataframe thead th {\n",
       "        text-align: right;\n",
       "    }\n",
       "</style>\n",
       "<table border=\"1\" class=\"dataframe\">\n",
       "  <thead>\n",
       "    <tr style=\"text-align: right;\">\n",
       "      <th></th>\n",
       "      <th>outcomes_game_x</th>\n",
       "      <th>outcomes_game_x_preds</th>\n",
       "      <th>pred_outcome</th>\n",
       "      <th>pred_absolute</th>\n",
       "    </tr>\n",
       "  </thead>\n",
       "  <tbody>\n",
       "    <tr>\n",
       "      <td>0</td>\n",
       "      <td>0.0</td>\n",
       "      <td>0.233720</td>\n",
       "      <td>0.0</td>\n",
       "      <td>0.266280</td>\n",
       "    </tr>\n",
       "    <tr>\n",
       "      <td>1</td>\n",
       "      <td>0.0</td>\n",
       "      <td>0.172049</td>\n",
       "      <td>0.0</td>\n",
       "      <td>0.327951</td>\n",
       "    </tr>\n",
       "    <tr>\n",
       "      <td>2</td>\n",
       "      <td>0.0</td>\n",
       "      <td>0.027765</td>\n",
       "      <td>0.0</td>\n",
       "      <td>0.472235</td>\n",
       "    </tr>\n",
       "    <tr>\n",
       "      <td>3</td>\n",
       "      <td>0.0</td>\n",
       "      <td>0.327544</td>\n",
       "      <td>0.0</td>\n",
       "      <td>0.172456</td>\n",
       "    </tr>\n",
       "    <tr>\n",
       "      <td>4</td>\n",
       "      <td>0.0</td>\n",
       "      <td>0.348601</td>\n",
       "      <td>0.0</td>\n",
       "      <td>0.151399</td>\n",
       "    </tr>\n",
       "    <tr>\n",
       "      <td>...</td>\n",
       "      <td>...</td>\n",
       "      <td>...</td>\n",
       "      <td>...</td>\n",
       "      <td>...</td>\n",
       "    </tr>\n",
       "    <tr>\n",
       "      <td>1631</td>\n",
       "      <td>0.0</td>\n",
       "      <td>0.377324</td>\n",
       "      <td>0.0</td>\n",
       "      <td>0.122676</td>\n",
       "    </tr>\n",
       "    <tr>\n",
       "      <td>1632</td>\n",
       "      <td>0.0</td>\n",
       "      <td>0.396574</td>\n",
       "      <td>0.0</td>\n",
       "      <td>0.103426</td>\n",
       "    </tr>\n",
       "    <tr>\n",
       "      <td>1633</td>\n",
       "      <td>1.0</td>\n",
       "      <td>0.724991</td>\n",
       "      <td>1.0</td>\n",
       "      <td>0.224991</td>\n",
       "    </tr>\n",
       "    <tr>\n",
       "      <td>1634</td>\n",
       "      <td>0.0</td>\n",
       "      <td>0.409134</td>\n",
       "      <td>0.0</td>\n",
       "      <td>0.090866</td>\n",
       "    </tr>\n",
       "    <tr>\n",
       "      <td>1635</td>\n",
       "      <td>1.0</td>\n",
       "      <td>0.686097</td>\n",
       "      <td>1.0</td>\n",
       "      <td>0.186097</td>\n",
       "    </tr>\n",
       "  </tbody>\n",
       "</table>\n",
       "<p>1636 rows × 4 columns</p>\n",
       "</div>"
      ],
      "text/plain": [
       "      outcomes_game_x  outcomes_game_x_preds  pred_outcome  pred_absolute\n",
       "0                 0.0               0.233720           0.0       0.266280\n",
       "1                 0.0               0.172049           0.0       0.327951\n",
       "2                 0.0               0.027765           0.0       0.472235\n",
       "3                 0.0               0.327544           0.0       0.172456\n",
       "4                 0.0               0.348601           0.0       0.151399\n",
       "...               ...                    ...           ...            ...\n",
       "1631              0.0               0.377324           0.0       0.122676\n",
       "1632              0.0               0.396574           0.0       0.103426\n",
       "1633              1.0               0.724991           1.0       0.224991\n",
       "1634              0.0               0.409134           0.0       0.090866\n",
       "1635              1.0               0.686097           1.0       0.186097\n",
       "\n",
       "[1636 rows x 4 columns]"
      ]
     },
     "execution_count": 242,
     "metadata": {},
     "output_type": "execute_result"
    }
   ],
   "source": [
    "df_anal[\"pred_absolute\"] = df_anal[\"outcomes_game_x_preds\"]-0.5\n",
    "df_anal[\"pred_absolute\"] = df_anal[\"pred_absolute\"].abs()\n",
    "df_anal"
   ]
  },
  {
   "cell_type": "code",
   "execution_count": 243,
   "metadata": {},
   "outputs": [
    {
     "name": "stderr",
     "output_type": "stream",
     "text": [
      "C:\\Users\\msuch\\Anaconda3\\envs\\PythonData\\lib\\site-packages\\ipykernel_launcher.py:17: SettingWithCopyWarning: \n",
      "A value is trying to be set on a copy of a slice from a DataFrame.\n",
      "Try using .loc[row_indexer,col_indexer] = value instead\n",
      "\n",
      "See the caveats in the documentation: http://pandas.pydata.org/pandas-docs/stable/user_guide/indexing.html#returning-a-view-versus-a-copy\n"
     ]
    }
   ],
   "source": [
    "\n",
    "outcome_list = df_anal[\"outcomes_game_x\"].to_list()\n",
    "pred_list = df_anal[\"pred_outcome\"].to_list()\n",
    "\n",
    "corrects = []\n",
    "counter = 0\n",
    "for outcome in outcome_list:\n",
    "    pred = pred_list[counter]\n",
    "    \n",
    "    if outcome == pred:\n",
    "        correct = 1\n",
    "    else:\n",
    "        correct = 0\n",
    "    \n",
    "    corrects.append(correct)\n",
    "    counter = counter+1\n",
    "\n",
    "df_anal[\"correct\"] = corrects"
   ]
  },
  {
   "cell_type": "code",
   "execution_count": 244,
   "metadata": {},
   "outputs": [],
   "source": [
    "bins = [0, 0.19999, .299999, 0.39999, 0.49999, 1]\n",
    "\n",
    "# Create the names for the four bins\n",
    "group_names = [\"D\", \"C\", \"B\", \"A\", \"S\"]"
   ]
  },
  {
   "cell_type": "code",
   "execution_count": 245,
   "metadata": {},
   "outputs": [
    {
     "name": "stderr",
     "output_type": "stream",
     "text": [
      "C:\\Users\\msuch\\Anaconda3\\envs\\PythonData\\lib\\site-packages\\ipykernel_launcher.py:1: SettingWithCopyWarning: \n",
      "A value is trying to be set on a copy of a slice from a DataFrame.\n",
      "Try using .loc[row_indexer,col_indexer] = value instead\n",
      "\n",
      "See the caveats in the documentation: http://pandas.pydata.org/pandas-docs/stable/user_guide/indexing.html#returning-a-view-versus-a-copy\n",
      "  \"\"\"Entry point for launching an IPython kernel.\n"
     ]
    },
    {
     "data": {
      "text/html": [
       "<div>\n",
       "<style scoped>\n",
       "    .dataframe tbody tr th:only-of-type {\n",
       "        vertical-align: middle;\n",
       "    }\n",
       "\n",
       "    .dataframe tbody tr th {\n",
       "        vertical-align: top;\n",
       "    }\n",
       "\n",
       "    .dataframe thead th {\n",
       "        text-align: right;\n",
       "    }\n",
       "</style>\n",
       "<table border=\"1\" class=\"dataframe\">\n",
       "  <thead>\n",
       "    <tr style=\"text-align: right;\">\n",
       "      <th></th>\n",
       "      <th>outcomes_game_x</th>\n",
       "      <th>outcomes_game_x_preds</th>\n",
       "      <th>pred_outcome</th>\n",
       "      <th>pred_absolute</th>\n",
       "      <th>correct</th>\n",
       "      <th>pred_val_summary</th>\n",
       "    </tr>\n",
       "  </thead>\n",
       "  <tbody>\n",
       "    <tr>\n",
       "      <td>0</td>\n",
       "      <td>0.0</td>\n",
       "      <td>0.233720</td>\n",
       "      <td>0.0</td>\n",
       "      <td>0.266280</td>\n",
       "      <td>1</td>\n",
       "      <td>C</td>\n",
       "    </tr>\n",
       "    <tr>\n",
       "      <td>1</td>\n",
       "      <td>0.0</td>\n",
       "      <td>0.172049</td>\n",
       "      <td>0.0</td>\n",
       "      <td>0.327951</td>\n",
       "      <td>1</td>\n",
       "      <td>B</td>\n",
       "    </tr>\n",
       "    <tr>\n",
       "      <td>2</td>\n",
       "      <td>0.0</td>\n",
       "      <td>0.027765</td>\n",
       "      <td>0.0</td>\n",
       "      <td>0.472235</td>\n",
       "      <td>1</td>\n",
       "      <td>A</td>\n",
       "    </tr>\n",
       "    <tr>\n",
       "      <td>3</td>\n",
       "      <td>0.0</td>\n",
       "      <td>0.327544</td>\n",
       "      <td>0.0</td>\n",
       "      <td>0.172456</td>\n",
       "      <td>1</td>\n",
       "      <td>D</td>\n",
       "    </tr>\n",
       "    <tr>\n",
       "      <td>4</td>\n",
       "      <td>0.0</td>\n",
       "      <td>0.348601</td>\n",
       "      <td>0.0</td>\n",
       "      <td>0.151399</td>\n",
       "      <td>1</td>\n",
       "      <td>D</td>\n",
       "    </tr>\n",
       "    <tr>\n",
       "      <td>...</td>\n",
       "      <td>...</td>\n",
       "      <td>...</td>\n",
       "      <td>...</td>\n",
       "      <td>...</td>\n",
       "      <td>...</td>\n",
       "      <td>...</td>\n",
       "    </tr>\n",
       "    <tr>\n",
       "      <td>1631</td>\n",
       "      <td>0.0</td>\n",
       "      <td>0.377324</td>\n",
       "      <td>0.0</td>\n",
       "      <td>0.122676</td>\n",
       "      <td>1</td>\n",
       "      <td>D</td>\n",
       "    </tr>\n",
       "    <tr>\n",
       "      <td>1632</td>\n",
       "      <td>0.0</td>\n",
       "      <td>0.396574</td>\n",
       "      <td>0.0</td>\n",
       "      <td>0.103426</td>\n",
       "      <td>1</td>\n",
       "      <td>D</td>\n",
       "    </tr>\n",
       "    <tr>\n",
       "      <td>1633</td>\n",
       "      <td>1.0</td>\n",
       "      <td>0.724991</td>\n",
       "      <td>1.0</td>\n",
       "      <td>0.224991</td>\n",
       "      <td>1</td>\n",
       "      <td>C</td>\n",
       "    </tr>\n",
       "    <tr>\n",
       "      <td>1634</td>\n",
       "      <td>0.0</td>\n",
       "      <td>0.409134</td>\n",
       "      <td>0.0</td>\n",
       "      <td>0.090866</td>\n",
       "      <td>1</td>\n",
       "      <td>D</td>\n",
       "    </tr>\n",
       "    <tr>\n",
       "      <td>1635</td>\n",
       "      <td>1.0</td>\n",
       "      <td>0.686097</td>\n",
       "      <td>1.0</td>\n",
       "      <td>0.186097</td>\n",
       "      <td>1</td>\n",
       "      <td>D</td>\n",
       "    </tr>\n",
       "  </tbody>\n",
       "</table>\n",
       "<p>1636 rows × 6 columns</p>\n",
       "</div>"
      ],
      "text/plain": [
       "      outcomes_game_x  outcomes_game_x_preds  pred_outcome  pred_absolute  \\\n",
       "0                 0.0               0.233720           0.0       0.266280   \n",
       "1                 0.0               0.172049           0.0       0.327951   \n",
       "2                 0.0               0.027765           0.0       0.472235   \n",
       "3                 0.0               0.327544           0.0       0.172456   \n",
       "4                 0.0               0.348601           0.0       0.151399   \n",
       "...               ...                    ...           ...            ...   \n",
       "1631              0.0               0.377324           0.0       0.122676   \n",
       "1632              0.0               0.396574           0.0       0.103426   \n",
       "1633              1.0               0.724991           1.0       0.224991   \n",
       "1634              0.0               0.409134           0.0       0.090866   \n",
       "1635              1.0               0.686097           1.0       0.186097   \n",
       "\n",
       "      correct pred_val_summary  \n",
       "0           1                C  \n",
       "1           1                B  \n",
       "2           1                A  \n",
       "3           1                D  \n",
       "4           1                D  \n",
       "...       ...              ...  \n",
       "1631        1                D  \n",
       "1632        1                D  \n",
       "1633        1                C  \n",
       "1634        1                D  \n",
       "1635        1                D  \n",
       "\n",
       "[1636 rows x 6 columns]"
      ]
     },
     "execution_count": 245,
     "metadata": {},
     "output_type": "execute_result"
    }
   ],
   "source": [
    "df_anal[\"pred_val_summary\"] = pd.cut(df_anal[\"pred_absolute\"], bins, labels=group_names, include_lowest=True)\n",
    "df_anal"
   ]
  },
  {
   "cell_type": "code",
   "execution_count": 246,
   "metadata": {},
   "outputs": [
    {
     "data": {
      "text/plain": [
       "pred_val_summary\n",
       "D    1133\n",
       "C     314\n",
       "B     153\n",
       "A      26\n",
       "S      10\n",
       "Name: correct, dtype: int64"
      ]
     },
     "execution_count": 246,
     "metadata": {},
     "output_type": "execute_result"
    }
   ],
   "source": [
    "group_df = df_anal.groupby(\"pred_val_summary\")\n",
    "group_df[\"correct\"].count()"
   ]
  },
  {
   "cell_type": "code",
   "execution_count": 247,
   "metadata": {},
   "outputs": [
    {
     "data": {
      "text/plain": [
       "pred_val_summary\n",
       "D    58.958517\n",
       "C    71.974522\n",
       "B    84.313725\n",
       "A    92.307692\n",
       "S    80.000000\n",
       "Name: correct, dtype: float64"
      ]
     },
     "execution_count": 247,
     "metadata": {},
     "output_type": "execute_result"
    }
   ],
   "source": [
    "group_df[\"correct\"].mean()*100"
   ]
  },
  {
   "cell_type": "code",
   "execution_count": null,
   "metadata": {},
   "outputs": [],
   "source": []
  },
  {
   "cell_type": "code",
   "execution_count": null,
   "metadata": {},
   "outputs": [],
   "source": []
  }
 ],
 "metadata": {
  "kernelspec": {
   "display_name": "Python [conda env:pythondata] *",
   "language": "python",
   "name": "conda-env-pythondata-py"
  },
  "language_info": {
   "codemirror_mode": {
    "name": "ipython",
    "version": 3
   },
   "file_extension": ".py",
   "mimetype": "text/x-python",
   "name": "python",
   "nbconvert_exporter": "python",
   "pygments_lexer": "ipython3",
   "version": "3.6.9"
  }
 },
 "nbformat": 4,
 "nbformat_minor": 2
}
