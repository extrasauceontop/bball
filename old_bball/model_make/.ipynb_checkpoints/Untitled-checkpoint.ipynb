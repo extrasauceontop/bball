{
 "cells": [
  {
   "cell_type": "code",
   "execution_count": 129,
   "metadata": {},
   "outputs": [],
   "source": [
    "from sklearn.model_selection import RandomizedSearchCV, GridSearchCV\n",
    "from sklearn.model_selection import cross_val_score\n",
    "import pandas as pd\n",
    "import xgboost\n",
    "import os\n",
    "import pickle"
   ]
  },
  {
   "cell_type": "code",
   "execution_count": 130,
   "metadata": {},
   "outputs": [],
   "source": [
    "df_2015 = pd.read_csv(\"../2015_baby/data/master.csv\")\n",
    "df_2016 = pd.read_csv(\"../2016_baby/data/master.csv\")\n",
    "df_2017 = pd.read_csv(\"../2017_baby/data/master.csv\")\n",
    "df_2018 = pd.read_csv(\"../2018_baby/data/master.csv\")\n",
    "df_2014 = pd.read_csv(\"../2014_baby/data/master.csv\")"
   ]
  },
  {
   "cell_type": "code",
   "execution_count": 131,
   "metadata": {},
   "outputs": [],
   "source": [
    "df_master = df_2015.append(df_2016)\n",
    "df_master = df_master.append(df_2017)\n",
    "df_master = df_master.append(df_2018)\n",
    "df_master = df_master.append(df_2014)\n",
    "df_master = df_master.reset_index()\n",
    "df_master = df_master.drop([\"index\"], axis=1)"
   ]
  },
  {
   "cell_type": "code",
   "execution_count": 127,
   "metadata": {},
   "outputs": [
    {
     "data": {
      "text/html": [
       "<div>\n",
       "<style scoped>\n",
       "    .dataframe tbody tr th:only-of-type {\n",
       "        vertical-align: middle;\n",
       "    }\n",
       "\n",
       "    .dataframe tbody tr th {\n",
       "        vertical-align: top;\n",
       "    }\n",
       "\n",
       "    .dataframe thead th {\n",
       "        text-align: right;\n",
       "    }\n",
       "</style>\n",
       "<table border=\"1\" class=\"dataframe\">\n",
       "  <thead>\n",
       "    <tr style=\"text-align: right;\">\n",
       "      <th></th>\n",
       "      <th>status_x</th>\n",
       "      <th>assists_game_x</th>\n",
       "      <th>assists_avg_x</th>\n",
       "      <th>att_field_goals_avg_x</th>\n",
       "      <th>att_free_throws_avg_x</th>\n",
       "      <th>att_three_points_avg_x</th>\n",
       "      <th>blocks_game_x</th>\n",
       "      <th>blocks_avg_x</th>\n",
       "      <th>defensive_rebounds_avg_x</th>\n",
       "      <th>made_field_goals_avg_x</th>\n",
       "      <th>...</th>\n",
       "      <th>opp_made_field_goals_10MA_y</th>\n",
       "      <th>opp_made_free_throws_10MA_y</th>\n",
       "      <th>opp_made_three_point_10MA_y</th>\n",
       "      <th>opp_offensive_rebounds_10MA_y</th>\n",
       "      <th>opp_personal_fouls_10MA_y</th>\n",
       "      <th>opp_points_10MA_y</th>\n",
       "      <th>opp_steals_10MA_y</th>\n",
       "      <th>opp_turnovers_10MA_y</th>\n",
       "      <th>total_rebounds_10MA_y</th>\n",
       "      <th>opp_total_rebounds_10MA_y</th>\n",
       "    </tr>\n",
       "  </thead>\n",
       "  <tbody>\n",
       "    <tr>\n",
       "      <td>0</td>\n",
       "      <td>0</td>\n",
       "      <td>22.0</td>\n",
       "      <td>26.666667</td>\n",
       "      <td>82.916667</td>\n",
       "      <td>19.416667</td>\n",
       "      <td>24.916667</td>\n",
       "      <td>7.0</td>\n",
       "      <td>4.916667</td>\n",
       "      <td>31.833333</td>\n",
       "      <td>39.083333</td>\n",
       "      <td>...</td>\n",
       "      <td>38.6</td>\n",
       "      <td>16.9</td>\n",
       "      <td>9.5</td>\n",
       "      <td>9.6</td>\n",
       "      <td>18.6</td>\n",
       "      <td>103.6</td>\n",
       "      <td>9.0</td>\n",
       "      <td>13.8</td>\n",
       "      <td>45.0</td>\n",
       "      <td>43.3</td>\n",
       "    </tr>\n",
       "    <tr>\n",
       "      <td>1</td>\n",
       "      <td>1</td>\n",
       "      <td>23.0</td>\n",
       "      <td>26.307692</td>\n",
       "      <td>82.384615</td>\n",
       "      <td>19.000000</td>\n",
       "      <td>25.230769</td>\n",
       "      <td>6.0</td>\n",
       "      <td>5.076923</td>\n",
       "      <td>32.153846</td>\n",
       "      <td>38.615385</td>\n",
       "      <td>...</td>\n",
       "      <td>40.3</td>\n",
       "      <td>17.7</td>\n",
       "      <td>9.3</td>\n",
       "      <td>10.2</td>\n",
       "      <td>21.2</td>\n",
       "      <td>107.6</td>\n",
       "      <td>9.2</td>\n",
       "      <td>17.1</td>\n",
       "      <td>44.1</td>\n",
       "      <td>43.5</td>\n",
       "    </tr>\n",
       "    <tr>\n",
       "      <td>2</td>\n",
       "      <td>0</td>\n",
       "      <td>22.0</td>\n",
       "      <td>26.071429</td>\n",
       "      <td>82.857143</td>\n",
       "      <td>19.357143</td>\n",
       "      <td>25.571429</td>\n",
       "      <td>4.0</td>\n",
       "      <td>5.142857</td>\n",
       "      <td>32.214286</td>\n",
       "      <td>38.571429</td>\n",
       "      <td>...</td>\n",
       "      <td>37.0</td>\n",
       "      <td>17.5</td>\n",
       "      <td>7.2</td>\n",
       "      <td>9.8</td>\n",
       "      <td>22.9</td>\n",
       "      <td>98.7</td>\n",
       "      <td>7.5</td>\n",
       "      <td>12.7</td>\n",
       "      <td>45.4</td>\n",
       "      <td>40.4</td>\n",
       "    </tr>\n",
       "    <tr>\n",
       "      <td>3</td>\n",
       "      <td>1</td>\n",
       "      <td>33.0</td>\n",
       "      <td>25.800000</td>\n",
       "      <td>83.066667</td>\n",
       "      <td>19.733333</td>\n",
       "      <td>25.733333</td>\n",
       "      <td>7.0</td>\n",
       "      <td>5.066667</td>\n",
       "      <td>31.800000</td>\n",
       "      <td>38.133333</td>\n",
       "      <td>...</td>\n",
       "      <td>35.1</td>\n",
       "      <td>19.5</td>\n",
       "      <td>7.1</td>\n",
       "      <td>11.4</td>\n",
       "      <td>20.2</td>\n",
       "      <td>96.8</td>\n",
       "      <td>9.0</td>\n",
       "      <td>17.9</td>\n",
       "      <td>44.8</td>\n",
       "      <td>42.7</td>\n",
       "    </tr>\n",
       "    <tr>\n",
       "      <td>4</td>\n",
       "      <td>0</td>\n",
       "      <td>14.0</td>\n",
       "      <td>26.250000</td>\n",
       "      <td>82.875000</td>\n",
       "      <td>19.875000</td>\n",
       "      <td>25.625000</td>\n",
       "      <td>7.0</td>\n",
       "      <td>5.187500</td>\n",
       "      <td>32.125000</td>\n",
       "      <td>38.562500</td>\n",
       "      <td>...</td>\n",
       "      <td>39.3</td>\n",
       "      <td>15.5</td>\n",
       "      <td>9.9</td>\n",
       "      <td>8.9</td>\n",
       "      <td>21.1</td>\n",
       "      <td>104.0</td>\n",
       "      <td>8.6</td>\n",
       "      <td>15.2</td>\n",
       "      <td>45.7</td>\n",
       "      <td>40.9</td>\n",
       "    </tr>\n",
       "    <tr>\n",
       "      <td>...</td>\n",
       "      <td>...</td>\n",
       "      <td>...</td>\n",
       "      <td>...</td>\n",
       "      <td>...</td>\n",
       "      <td>...</td>\n",
       "      <td>...</td>\n",
       "      <td>...</td>\n",
       "      <td>...</td>\n",
       "      <td>...</td>\n",
       "      <td>...</td>\n",
       "      <td>...</td>\n",
       "      <td>...</td>\n",
       "      <td>...</td>\n",
       "      <td>...</td>\n",
       "      <td>...</td>\n",
       "      <td>...</td>\n",
       "      <td>...</td>\n",
       "      <td>...</td>\n",
       "      <td>...</td>\n",
       "      <td>...</td>\n",
       "      <td>...</td>\n",
       "    </tr>\n",
       "    <tr>\n",
       "      <td>11551</td>\n",
       "      <td>0</td>\n",
       "      <td>21.0</td>\n",
       "      <td>24.045977</td>\n",
       "      <td>82.862069</td>\n",
       "      <td>21.770115</td>\n",
       "      <td>17.275862</td>\n",
       "      <td>1.0</td>\n",
       "      <td>4.689655</td>\n",
       "      <td>34.356322</td>\n",
       "      <td>38.333333</td>\n",
       "      <td>...</td>\n",
       "      <td>36.8</td>\n",
       "      <td>16.8</td>\n",
       "      <td>8.9</td>\n",
       "      <td>10.2</td>\n",
       "      <td>18.3</td>\n",
       "      <td>99.3</td>\n",
       "      <td>7.5</td>\n",
       "      <td>14.7</td>\n",
       "      <td>44.3</td>\n",
       "      <td>46.1</td>\n",
       "    </tr>\n",
       "    <tr>\n",
       "      <td>11552</td>\n",
       "      <td>1</td>\n",
       "      <td>27.0</td>\n",
       "      <td>24.011364</td>\n",
       "      <td>82.852273</td>\n",
       "      <td>21.681818</td>\n",
       "      <td>17.329545</td>\n",
       "      <td>5.0</td>\n",
       "      <td>4.647727</td>\n",
       "      <td>34.340909</td>\n",
       "      <td>38.295455</td>\n",
       "      <td>...</td>\n",
       "      <td>36.4</td>\n",
       "      <td>15.5</td>\n",
       "      <td>9.2</td>\n",
       "      <td>9.5</td>\n",
       "      <td>18.5</td>\n",
       "      <td>97.5</td>\n",
       "      <td>7.6</td>\n",
       "      <td>14.4</td>\n",
       "      <td>44.9</td>\n",
       "      <td>45.0</td>\n",
       "    </tr>\n",
       "    <tr>\n",
       "      <td>11553</td>\n",
       "      <td>1</td>\n",
       "      <td>21.0</td>\n",
       "      <td>24.044944</td>\n",
       "      <td>82.797753</td>\n",
       "      <td>21.764045</td>\n",
       "      <td>17.449438</td>\n",
       "      <td>8.0</td>\n",
       "      <td>4.651685</td>\n",
       "      <td>34.337079</td>\n",
       "      <td>38.280899</td>\n",
       "      <td>...</td>\n",
       "      <td>35.8</td>\n",
       "      <td>16.1</td>\n",
       "      <td>8.9</td>\n",
       "      <td>9.5</td>\n",
       "      <td>19.0</td>\n",
       "      <td>96.6</td>\n",
       "      <td>7.4</td>\n",
       "      <td>14.0</td>\n",
       "      <td>45.0</td>\n",
       "      <td>45.4</td>\n",
       "    </tr>\n",
       "    <tr>\n",
       "      <td>11554</td>\n",
       "      <td>0</td>\n",
       "      <td>20.0</td>\n",
       "      <td>24.011111</td>\n",
       "      <td>82.822222</td>\n",
       "      <td>21.711111</td>\n",
       "      <td>17.544444</td>\n",
       "      <td>5.0</td>\n",
       "      <td>4.688889</td>\n",
       "      <td>34.300000</td>\n",
       "      <td>38.277778</td>\n",
       "      <td>...</td>\n",
       "      <td>36.5</td>\n",
       "      <td>15.2</td>\n",
       "      <td>9.4</td>\n",
       "      <td>9.8</td>\n",
       "      <td>19.7</td>\n",
       "      <td>97.6</td>\n",
       "      <td>6.8</td>\n",
       "      <td>13.5</td>\n",
       "      <td>44.5</td>\n",
       "      <td>44.5</td>\n",
       "    </tr>\n",
       "    <tr>\n",
       "      <td>11555</td>\n",
       "      <td>1</td>\n",
       "      <td>19.0</td>\n",
       "      <td>23.967033</td>\n",
       "      <td>82.879121</td>\n",
       "      <td>21.648352</td>\n",
       "      <td>17.538462</td>\n",
       "      <td>4.0</td>\n",
       "      <td>4.692308</td>\n",
       "      <td>34.285714</td>\n",
       "      <td>38.219780</td>\n",
       "      <td>...</td>\n",
       "      <td>36.2</td>\n",
       "      <td>14.8</td>\n",
       "      <td>9.3</td>\n",
       "      <td>9.9</td>\n",
       "      <td>19.5</td>\n",
       "      <td>96.5</td>\n",
       "      <td>7.5</td>\n",
       "      <td>13.7</td>\n",
       "      <td>45.6</td>\n",
       "      <td>44.4</td>\n",
       "    </tr>\n",
       "  </tbody>\n",
       "</table>\n",
       "<p>11556 rows × 137 columns</p>\n",
       "</div>"
      ],
      "text/plain": [
       "       status_x  assists_game_x  assists_avg_x  att_field_goals_avg_x  \\\n",
       "0             0            22.0      26.666667              82.916667   \n",
       "1             1            23.0      26.307692              82.384615   \n",
       "2             0            22.0      26.071429              82.857143   \n",
       "3             1            33.0      25.800000              83.066667   \n",
       "4             0            14.0      26.250000              82.875000   \n",
       "...         ...             ...            ...                    ...   \n",
       "11551         0            21.0      24.045977              82.862069   \n",
       "11552         1            27.0      24.011364              82.852273   \n",
       "11553         1            21.0      24.044944              82.797753   \n",
       "11554         0            20.0      24.011111              82.822222   \n",
       "11555         1            19.0      23.967033              82.879121   \n",
       "\n",
       "       att_free_throws_avg_x  att_three_points_avg_x  blocks_game_x  \\\n",
       "0                  19.416667               24.916667            7.0   \n",
       "1                  19.000000               25.230769            6.0   \n",
       "2                  19.357143               25.571429            4.0   \n",
       "3                  19.733333               25.733333            7.0   \n",
       "4                  19.875000               25.625000            7.0   \n",
       "...                      ...                     ...            ...   \n",
       "11551              21.770115               17.275862            1.0   \n",
       "11552              21.681818               17.329545            5.0   \n",
       "11553              21.764045               17.449438            8.0   \n",
       "11554              21.711111               17.544444            5.0   \n",
       "11555              21.648352               17.538462            4.0   \n",
       "\n",
       "       blocks_avg_x  defensive_rebounds_avg_x  made_field_goals_avg_x  ...  \\\n",
       "0          4.916667                 31.833333               39.083333  ...   \n",
       "1          5.076923                 32.153846               38.615385  ...   \n",
       "2          5.142857                 32.214286               38.571429  ...   \n",
       "3          5.066667                 31.800000               38.133333  ...   \n",
       "4          5.187500                 32.125000               38.562500  ...   \n",
       "...             ...                       ...                     ...  ...   \n",
       "11551      4.689655                 34.356322               38.333333  ...   \n",
       "11552      4.647727                 34.340909               38.295455  ...   \n",
       "11553      4.651685                 34.337079               38.280899  ...   \n",
       "11554      4.688889                 34.300000               38.277778  ...   \n",
       "11555      4.692308                 34.285714               38.219780  ...   \n",
       "\n",
       "       opp_made_field_goals_10MA_y  opp_made_free_throws_10MA_y  \\\n",
       "0                             38.6                         16.9   \n",
       "1                             40.3                         17.7   \n",
       "2                             37.0                         17.5   \n",
       "3                             35.1                         19.5   \n",
       "4                             39.3                         15.5   \n",
       "...                            ...                          ...   \n",
       "11551                         36.8                         16.8   \n",
       "11552                         36.4                         15.5   \n",
       "11553                         35.8                         16.1   \n",
       "11554                         36.5                         15.2   \n",
       "11555                         36.2                         14.8   \n",
       "\n",
       "       opp_made_three_point_10MA_y  opp_offensive_rebounds_10MA_y  \\\n",
       "0                              9.5                            9.6   \n",
       "1                              9.3                           10.2   \n",
       "2                              7.2                            9.8   \n",
       "3                              7.1                           11.4   \n",
       "4                              9.9                            8.9   \n",
       "...                            ...                            ...   \n",
       "11551                          8.9                           10.2   \n",
       "11552                          9.2                            9.5   \n",
       "11553                          8.9                            9.5   \n",
       "11554                          9.4                            9.8   \n",
       "11555                          9.3                            9.9   \n",
       "\n",
       "       opp_personal_fouls_10MA_y  opp_points_10MA_y  opp_steals_10MA_y  \\\n",
       "0                           18.6              103.6                9.0   \n",
       "1                           21.2              107.6                9.2   \n",
       "2                           22.9               98.7                7.5   \n",
       "3                           20.2               96.8                9.0   \n",
       "4                           21.1              104.0                8.6   \n",
       "...                          ...                ...                ...   \n",
       "11551                       18.3               99.3                7.5   \n",
       "11552                       18.5               97.5                7.6   \n",
       "11553                       19.0               96.6                7.4   \n",
       "11554                       19.7               97.6                6.8   \n",
       "11555                       19.5               96.5                7.5   \n",
       "\n",
       "       opp_turnovers_10MA_y  total_rebounds_10MA_y  opp_total_rebounds_10MA_y  \n",
       "0                      13.8                   45.0                       43.3  \n",
       "1                      17.1                   44.1                       43.5  \n",
       "2                      12.7                   45.4                       40.4  \n",
       "3                      17.9                   44.8                       42.7  \n",
       "4                      15.2                   45.7                       40.9  \n",
       "...                     ...                    ...                        ...  \n",
       "11551                  14.7                   44.3                       46.1  \n",
       "11552                  14.4                   44.9                       45.0  \n",
       "11553                  14.0                   45.0                       45.4  \n",
       "11554                  13.5                   44.5                       44.5  \n",
       "11555                  13.7                   45.6                       44.4  \n",
       "\n",
       "[11556 rows x 137 columns]"
      ]
     },
     "execution_count": 127,
     "metadata": {},
     "output_type": "execute_result"
    }
   ],
   "source": [
    "non_stats_columns = [\"name_x\", \"date\", \"name_y\", \"opp_name_x\"]\n",
    "stats_columns = [\"assists_game_x\", \"blocks_game_x\", \"points_game_x\", \"total_rebounds_game_x\", \"assists_game_y\", \"blocks_game_y\", \"points_game_y\", \"total_rebounds_game_y\", \"outcomes_game_x\"]\n",
    "\n",
    "df_test = df_master.drop(non_stats_columns, axis=1)\n",
    "df_test"
   ]
  },
  {
   "cell_type": "code",
   "execution_count": 135,
   "metadata": {},
   "outputs": [
    {
     "name": "stdout",
     "output_type": "stream",
     "text": [
      "assists_game_x\n",
      "blocks_game_x\n",
      "points_game_x\n",
      "outcomes_game_x\n",
      "total_rebounds_game_x\n",
      "opp_total_rebounds_game_x\n",
      "assists_game_y\n",
      "blocks_game_y\n",
      "points_game_y\n",
      "total_rebounds_game_y\n",
      "opp_total_rebounds_game_y\n"
     ]
    }
   ],
   "source": [
    "for column in df_test:\n",
    "    splits = column.split(\"_\")\n",
    "    if \"game\" in splits:\n",
    "        print(column)"
   ]
  },
  {
   "cell_type": "code",
   "execution_count": 132,
   "metadata": {},
   "outputs": [
    {
     "name": "stdout",
     "output_type": "stream",
     "text": [
      "Fitting 5 folds for each of 13 candidates, totalling 65 fits\n"
     ]
    },
    {
     "name": "stderr",
     "output_type": "stream",
     "text": [
      "[Parallel(n_jobs=-1)]: Using backend LokyBackend with 8 concurrent workers.\n",
      "[Parallel(n_jobs=-1)]: Done  16 tasks      | elapsed:  4.0min\n",
      "[Parallel(n_jobs=-1)]: Done  65 out of  65 | elapsed: 22.4min finished\n"
     ]
    },
    {
     "name": "stdout",
     "output_type": "stream",
     "text": [
      "[22:39:59] WARNING: C:/Jenkins/workspace/xgboost-win64_release_0.90/src/objective/regression_obj.cu:152: reg:linear is now deprecated in favor of reg:squarederror.\n",
      "Fitting 5 folds for each of 8 candidates, totalling 40 fits\n"
     ]
    },
    {
     "name": "stderr",
     "output_type": "stream",
     "text": [
      "[Parallel(n_jobs=-1)]: Using backend LokyBackend with 8 concurrent workers.\n",
      "[Parallel(n_jobs=-1)]: Done  16 tasks      | elapsed:  4.9min\n",
      "[Parallel(n_jobs=-1)]: Done  40 out of  40 | elapsed: 18.1min finished\n"
     ]
    },
    {
     "name": "stdout",
     "output_type": "stream",
     "text": [
      "[22:58:53] WARNING: C:/Jenkins/workspace/xgboost-win64_release_0.90/src/objective/regression_obj.cu:152: reg:linear is now deprecated in favor of reg:squarederror.\n",
      "Fitting 5 folds for each of 100 candidates, totalling 500 fits\n"
     ]
    },
    {
     "name": "stderr",
     "output_type": "stream",
     "text": [
      "[Parallel(n_jobs=-1)]: Using backend LokyBackend with 8 concurrent workers.\n",
      "[Parallel(n_jobs=-1)]: Done  16 tasks      | elapsed:  2.4min\n",
      "[Parallel(n_jobs=-1)]: Done 112 tasks      | elapsed: 14.5min\n",
      "[Parallel(n_jobs=-1)]: Done 272 tasks      | elapsed: 35.3min\n",
      "[Parallel(n_jobs=-1)]: Done 500 out of 500 | elapsed: 64.0min finished\n"
     ]
    },
    {
     "name": "stdout",
     "output_type": "stream",
     "text": [
      "[00:03:39] WARNING: C:/Jenkins/workspace/xgboost-win64_release_0.90/src/objective/regression_obj.cu:152: reg:linear is now deprecated in favor of reg:squarederror.\n",
      "[00:04:21] WARNING: C:/Jenkins/workspace/xgboost-win64_release_0.90/src/objective/regression_obj.cu:152: reg:linear is now deprecated in favor of reg:squarederror.\n",
      "Fitting 5 folds for each of 13 candidates, totalling 65 fits\n"
     ]
    },
    {
     "name": "stderr",
     "output_type": "stream",
     "text": [
      "[Parallel(n_jobs=-1)]: Using backend LokyBackend with 8 concurrent workers.\n",
      "[Parallel(n_jobs=-1)]: Done  16 tasks      | elapsed:  4.0min\n",
      "[Parallel(n_jobs=-1)]: Done  65 out of  65 | elapsed: 22.3min finished\n"
     ]
    },
    {
     "name": "stdout",
     "output_type": "stream",
     "text": [
      "[00:27:16] WARNING: C:/Jenkins/workspace/xgboost-win64_release_0.90/src/objective/regression_obj.cu:152: reg:linear is now deprecated in favor of reg:squarederror.\n",
      "Fitting 5 folds for each of 8 candidates, totalling 40 fits\n"
     ]
    },
    {
     "name": "stderr",
     "output_type": "stream",
     "text": [
      "[Parallel(n_jobs=-1)]: Using backend LokyBackend with 8 concurrent workers.\n",
      "[Parallel(n_jobs=-1)]: Done  16 tasks      | elapsed:  4.9min\n",
      "[Parallel(n_jobs=-1)]: Done  40 out of  40 | elapsed: 18.3min finished\n"
     ]
    },
    {
     "name": "stdout",
     "output_type": "stream",
     "text": [
      "[00:46:22] WARNING: C:/Jenkins/workspace/xgboost-win64_release_0.90/src/objective/regression_obj.cu:152: reg:linear is now deprecated in favor of reg:squarederror.\n",
      "Fitting 5 folds for each of 100 candidates, totalling 500 fits\n"
     ]
    },
    {
     "name": "stderr",
     "output_type": "stream",
     "text": [
      "[Parallel(n_jobs=-1)]: Using backend LokyBackend with 8 concurrent workers.\n",
      "[Parallel(n_jobs=-1)]: Done  16 tasks      | elapsed:  6.8min\n",
      "[Parallel(n_jobs=-1)]: Done 112 tasks      | elapsed: 50.2min\n",
      "[Parallel(n_jobs=-1)]: Done 272 tasks      | elapsed: 123.9min\n",
      "[Parallel(n_jobs=-1)]: Done 500 out of 500 | elapsed: 229.8min finished\n"
     ]
    },
    {
     "name": "stdout",
     "output_type": "stream",
     "text": [
      "[04:39:20] WARNING: C:/Jenkins/workspace/xgboost-win64_release_0.90/src/objective/regression_obj.cu:152: reg:linear is now deprecated in favor of reg:squarederror.\n",
      "[04:42:39] WARNING: C:/Jenkins/workspace/xgboost-win64_release_0.90/src/objective/regression_obj.cu:152: reg:linear is now deprecated in favor of reg:squarederror.\n",
      "Fitting 5 folds for each of 13 candidates, totalling 65 fits\n"
     ]
    },
    {
     "name": "stderr",
     "output_type": "stream",
     "text": [
      "[Parallel(n_jobs=-1)]: Using backend LokyBackend with 8 concurrent workers.\n",
      "[Parallel(n_jobs=-1)]: Done  16 tasks      | elapsed:  4.0min\n",
      "[Parallel(n_jobs=-1)]: Done  65 out of  65 | elapsed: 22.1min finished\n"
     ]
    },
    {
     "name": "stdout",
     "output_type": "stream",
     "text": [
      "[05:07:33] WARNING: C:/Jenkins/workspace/xgboost-win64_release_0.90/src/objective/regression_obj.cu:152: reg:linear is now deprecated in favor of reg:squarederror.\n",
      "Fitting 5 folds for each of 8 candidates, totalling 40 fits\n"
     ]
    },
    {
     "name": "stderr",
     "output_type": "stream",
     "text": [
      "[Parallel(n_jobs=-1)]: Using backend LokyBackend with 8 concurrent workers.\n",
      "[Parallel(n_jobs=-1)]: Done  16 tasks      | elapsed:  5.0min\n",
      "[Parallel(n_jobs=-1)]: Done  40 out of  40 | elapsed: 17.9min finished\n"
     ]
    },
    {
     "name": "stdout",
     "output_type": "stream",
     "text": [
      "[05:26:15] WARNING: C:/Jenkins/workspace/xgboost-win64_release_0.90/src/objective/regression_obj.cu:152: reg:linear is now deprecated in favor of reg:squarederror.\n",
      "Fitting 5 folds for each of 100 candidates, totalling 500 fits\n"
     ]
    },
    {
     "name": "stderr",
     "output_type": "stream",
     "text": [
      "[Parallel(n_jobs=-1)]: Using backend LokyBackend with 8 concurrent workers.\n",
      "[Parallel(n_jobs=-1)]: Done  16 tasks      | elapsed:  2.5min\n",
      "[Parallel(n_jobs=-1)]: Done 112 tasks      | elapsed: 14.7min\n",
      "[Parallel(n_jobs=-1)]: Done 272 tasks      | elapsed: 34.3min\n",
      "[Parallel(n_jobs=-1)]: Done 500 out of 500 | elapsed: 63.3min finished\n"
     ]
    },
    {
     "name": "stdout",
     "output_type": "stream",
     "text": [
      "[06:30:18] WARNING: C:/Jenkins/workspace/xgboost-win64_release_0.90/src/objective/regression_obj.cu:152: reg:linear is now deprecated in favor of reg:squarederror.\n",
      "[06:30:51] WARNING: C:/Jenkins/workspace/xgboost-win64_release_0.90/src/objective/regression_obj.cu:152: reg:linear is now deprecated in favor of reg:squarederror.\n",
      "Fitting 5 folds for each of 13 candidates, totalling 65 fits\n"
     ]
    },
    {
     "name": "stderr",
     "output_type": "stream",
     "text": [
      "[Parallel(n_jobs=-1)]: Using backend LokyBackend with 8 concurrent workers.\n",
      "[Parallel(n_jobs=-1)]: Done  16 tasks      | elapsed:  3.0min\n",
      "[Parallel(n_jobs=-1)]: Done  65 out of  65 | elapsed: 14.5min finished\n"
     ]
    },
    {
     "name": "stdout",
     "output_type": "stream",
     "text": [
      "[06:45:50] WARNING: C:/Jenkins/workspace/xgboost-win64_release_0.90/src/objective/regression_obj.cu:152: reg:linear is now deprecated in favor of reg:squarederror.\n",
      "Fitting 5 folds for each of 8 candidates, totalling 40 fits\n"
     ]
    },
    {
     "name": "stderr",
     "output_type": "stream",
     "text": [
      "[Parallel(n_jobs=-1)]: Using backend LokyBackend with 8 concurrent workers.\n",
      "[Parallel(n_jobs=-1)]: Done  16 tasks      | elapsed:  2.9min\n",
      "[Parallel(n_jobs=-1)]: Done  40 out of  40 | elapsed:  7.4min finished\n"
     ]
    },
    {
     "name": "stdout",
     "output_type": "stream",
     "text": [
      "[06:53:55] WARNING: C:/Jenkins/workspace/xgboost-win64_release_0.90/src/objective/regression_obj.cu:152: reg:linear is now deprecated in favor of reg:squarederror.\n",
      "Fitting 5 folds for each of 100 candidates, totalling 500 fits\n"
     ]
    },
    {
     "name": "stderr",
     "output_type": "stream",
     "text": [
      "[Parallel(n_jobs=-1)]: Using backend LokyBackend with 8 concurrent workers.\n",
      "[Parallel(n_jobs=-1)]: Done  16 tasks      | elapsed:  4.1min\n",
      "[Parallel(n_jobs=-1)]: Done 112 tasks      | elapsed: 24.1min\n",
      "[Parallel(n_jobs=-1)]: Done 272 tasks      | elapsed: 61.2min\n",
      "[Parallel(n_jobs=-1)]: Done 500 out of 500 | elapsed: 109.5min finished\n"
     ]
    },
    {
     "name": "stdout",
     "output_type": "stream",
     "text": [
      "[08:44:11] WARNING: C:/Jenkins/workspace/xgboost-win64_release_0.90/src/objective/regression_obj.cu:152: reg:linear is now deprecated in favor of reg:squarederror.\n",
      "[08:45:22] WARNING: C:/Jenkins/workspace/xgboost-win64_release_0.90/src/objective/regression_obj.cu:152: reg:linear is now deprecated in favor of reg:squarederror.\n",
      "Fitting 5 folds for each of 13 candidates, totalling 65 fits\n"
     ]
    },
    {
     "name": "stderr",
     "output_type": "stream",
     "text": [
      "[Parallel(n_jobs=-1)]: Using backend LokyBackend with 8 concurrent workers.\n",
      "[Parallel(n_jobs=-1)]: Done  16 tasks      | elapsed:  3.9min\n",
      "[Parallel(n_jobs=-1)]: Done  65 out of  65 | elapsed: 21.8min finished\n"
     ]
    },
    {
     "name": "stdout",
     "output_type": "stream",
     "text": [
      "[09:08:16] WARNING: C:/Jenkins/workspace/xgboost-win64_release_0.90/src/objective/regression_obj.cu:152: reg:linear is now deprecated in favor of reg:squarederror.\n",
      "Fitting 5 folds for each of 8 candidates, totalling 40 fits\n"
     ]
    },
    {
     "name": "stderr",
     "output_type": "stream",
     "text": [
      "[Parallel(n_jobs=-1)]: Using backend LokyBackend with 8 concurrent workers.\n",
      "[Parallel(n_jobs=-1)]: Done  16 tasks      | elapsed:  5.0min\n",
      "[Parallel(n_jobs=-1)]: Done  40 out of  40 | elapsed: 18.0min finished\n"
     ]
    },
    {
     "name": "stdout",
     "output_type": "stream",
     "text": [
      "[09:27:02] WARNING: C:/Jenkins/workspace/xgboost-win64_release_0.90/src/objective/regression_obj.cu:152: reg:linear is now deprecated in favor of reg:squarederror.\n",
      "Fitting 5 folds for each of 100 candidates, totalling 500 fits\n"
     ]
    },
    {
     "name": "stderr",
     "output_type": "stream",
     "text": [
      "[Parallel(n_jobs=-1)]: Using backend LokyBackend with 8 concurrent workers.\n",
      "[Parallel(n_jobs=-1)]: Done  16 tasks      | elapsed:  2.3min\n",
      "[Parallel(n_jobs=-1)]: Done 112 tasks      | elapsed: 14.6min\n",
      "[Parallel(n_jobs=-1)]: Done 272 tasks      | elapsed: 33.7min\n",
      "[Parallel(n_jobs=-1)]: Done 500 out of 500 | elapsed: 61.7min finished\n"
     ]
    },
    {
     "name": "stdout",
     "output_type": "stream",
     "text": [
      "[10:29:31] WARNING: C:/Jenkins/workspace/xgboost-win64_release_0.90/src/objective/regression_obj.cu:152: reg:linear is now deprecated in favor of reg:squarederror.\n",
      "[10:30:03] WARNING: C:/Jenkins/workspace/xgboost-win64_release_0.90/src/objective/regression_obj.cu:152: reg:linear is now deprecated in favor of reg:squarederror.\n",
      "Fitting 5 folds for each of 13 candidates, totalling 65 fits\n"
     ]
    },
    {
     "name": "stderr",
     "output_type": "stream",
     "text": [
      "[Parallel(n_jobs=-1)]: Using backend LokyBackend with 8 concurrent workers.\n",
      "[Parallel(n_jobs=-1)]: Done  16 tasks      | elapsed:  3.9min\n",
      "[Parallel(n_jobs=-1)]: Done  65 out of  65 | elapsed: 21.9min finished\n"
     ]
    },
    {
     "name": "stdout",
     "output_type": "stream",
     "text": [
      "[10:52:27] WARNING: C:/Jenkins/workspace/xgboost-win64_release_0.90/src/objective/regression_obj.cu:152: reg:linear is now deprecated in favor of reg:squarederror.\n",
      "Fitting 5 folds for each of 8 candidates, totalling 40 fits\n"
     ]
    },
    {
     "name": "stderr",
     "output_type": "stream",
     "text": [
      "[Parallel(n_jobs=-1)]: Using backend LokyBackend with 8 concurrent workers.\n",
      "[Parallel(n_jobs=-1)]: Done  16 tasks      | elapsed:  5.1min\n",
      "[Parallel(n_jobs=-1)]: Done  40 out of  40 | elapsed: 18.2min finished\n"
     ]
    },
    {
     "name": "stdout",
     "output_type": "stream",
     "text": [
      "[11:11:26] WARNING: C:/Jenkins/workspace/xgboost-win64_release_0.90/src/objective/regression_obj.cu:152: reg:linear is now deprecated in favor of reg:squarederror.\n",
      "Fitting 5 folds for each of 100 candidates, totalling 500 fits\n"
     ]
    },
    {
     "name": "stderr",
     "output_type": "stream",
     "text": [
      "[Parallel(n_jobs=-1)]: Using backend LokyBackend with 8 concurrent workers.\n",
      "[Parallel(n_jobs=-1)]: Done  16 tasks      | elapsed:  8.7min\n",
      "[Parallel(n_jobs=-1)]: Done 112 tasks      | elapsed: 48.3min\n",
      "[Parallel(n_jobs=-1)]: Done 272 tasks      | elapsed: 112.9min\n",
      "[Parallel(n_jobs=-1)]: Done 500 out of 500 | elapsed: 196.5min finished\n"
     ]
    },
    {
     "name": "stdout",
     "output_type": "stream",
     "text": [
      "[14:30:25] WARNING: C:/Jenkins/workspace/xgboost-win64_release_0.90/src/objective/regression_obj.cu:152: reg:linear is now deprecated in favor of reg:squarederror.\n",
      "[14:32:11] WARNING: C:/Jenkins/workspace/xgboost-win64_release_0.90/src/objective/regression_obj.cu:152: reg:linear is now deprecated in favor of reg:squarederror.\n",
      "Fitting 5 folds for each of 13 candidates, totalling 65 fits\n"
     ]
    },
    {
     "name": "stderr",
     "output_type": "stream",
     "text": [
      "[Parallel(n_jobs=-1)]: Using backend LokyBackend with 8 concurrent workers.\n",
      "[Parallel(n_jobs=-1)]: Done  16 tasks      | elapsed:  4.0min\n",
      "[Parallel(n_jobs=-1)]: Done  65 out of  65 | elapsed: 22.3min finished\n"
     ]
    },
    {
     "name": "stdout",
     "output_type": "stream",
     "text": [
      "[14:56:09] WARNING: C:/Jenkins/workspace/xgboost-win64_release_0.90/src/objective/regression_obj.cu:152: reg:linear is now deprecated in favor of reg:squarederror.\n",
      "Fitting 5 folds for each of 8 candidates, totalling 40 fits\n"
     ]
    },
    {
     "name": "stderr",
     "output_type": "stream",
     "text": [
      "[Parallel(n_jobs=-1)]: Using backend LokyBackend with 8 concurrent workers.\n",
      "[Parallel(n_jobs=-1)]: Done  16 tasks      | elapsed:  4.9min\n",
      "[Parallel(n_jobs=-1)]: Done  40 out of  40 | elapsed: 18.0min finished\n"
     ]
    },
    {
     "name": "stdout",
     "output_type": "stream",
     "text": [
      "[15:14:57] WARNING: C:/Jenkins/workspace/xgboost-win64_release_0.90/src/objective/regression_obj.cu:152: reg:linear is now deprecated in favor of reg:squarederror.\n",
      "Fitting 5 folds for each of 100 candidates, totalling 500 fits\n"
     ]
    },
    {
     "name": "stderr",
     "output_type": "stream",
     "text": [
      "[Parallel(n_jobs=-1)]: Using backend LokyBackend with 8 concurrent workers.\n",
      "[Parallel(n_jobs=-1)]: Done  16 tasks      | elapsed:  2.4min\n",
      "[Parallel(n_jobs=-1)]: Done 112 tasks      | elapsed: 13.3min\n",
      "[Parallel(n_jobs=-1)]: Done 272 tasks      | elapsed: 33.2min\n",
      "[Parallel(n_jobs=-1)]: Done 500 out of 500 | elapsed: 60.0min finished\n"
     ]
    },
    {
     "name": "stdout",
     "output_type": "stream",
     "text": [
      "[16:15:46] WARNING: C:/Jenkins/workspace/xgboost-win64_release_0.90/src/objective/regression_obj.cu:152: reg:linear is now deprecated in favor of reg:squarederror.\n",
      "[16:16:29] WARNING: C:/Jenkins/workspace/xgboost-win64_release_0.90/src/objective/regression_obj.cu:152: reg:linear is now deprecated in favor of reg:squarederror.\n",
      "Fitting 5 folds for each of 13 candidates, totalling 65 fits\n"
     ]
    },
    {
     "name": "stderr",
     "output_type": "stream",
     "text": [
      "[Parallel(n_jobs=-1)]: Using backend LokyBackend with 8 concurrent workers.\n",
      "[Parallel(n_jobs=-1)]: Done  16 tasks      | elapsed:  2.9min\n",
      "[Parallel(n_jobs=-1)]: Done  65 out of  65 | elapsed: 14.8min finished\n"
     ]
    },
    {
     "name": "stdout",
     "output_type": "stream",
     "text": [
      "[16:31:56] WARNING: C:/Jenkins/workspace/xgboost-win64_release_0.90/src/objective/regression_obj.cu:152: reg:linear is now deprecated in favor of reg:squarederror.\n",
      "Fitting 5 folds for each of 8 candidates, totalling 40 fits\n"
     ]
    },
    {
     "name": "stderr",
     "output_type": "stream",
     "text": [
      "[Parallel(n_jobs=-1)]: Using backend LokyBackend with 8 concurrent workers.\n",
      "[Parallel(n_jobs=-1)]: Done  16 tasks      | elapsed:  3.0min\n",
      "[Parallel(n_jobs=-1)]: Done  40 out of  40 | elapsed:  7.4min finished\n"
     ]
    },
    {
     "name": "stdout",
     "output_type": "stream",
     "text": [
      "[16:39:58] WARNING: C:/Jenkins/workspace/xgboost-win64_release_0.90/src/objective/regression_obj.cu:152: reg:linear is now deprecated in favor of reg:squarederror.\n",
      "Fitting 5 folds for each of 100 candidates, totalling 500 fits\n"
     ]
    },
    {
     "name": "stderr",
     "output_type": "stream",
     "text": [
      "[Parallel(n_jobs=-1)]: Using backend LokyBackend with 8 concurrent workers.\n",
      "[Parallel(n_jobs=-1)]: Done  16 tasks      | elapsed:  2.4min\n",
      "[Parallel(n_jobs=-1)]: Done 112 tasks      | elapsed: 18.6min\n",
      "[Parallel(n_jobs=-1)]: Done 272 tasks      | elapsed: 43.7min\n",
      "[Parallel(n_jobs=-1)]: Done 500 out of 500 | elapsed: 80.0min finished\n"
     ]
    },
    {
     "name": "stdout",
     "output_type": "stream",
     "text": [
      "[18:00:44] WARNING: C:/Jenkins/workspace/xgboost-win64_release_0.90/src/objective/regression_obj.cu:152: reg:linear is now deprecated in favor of reg:squarederror.\n",
      "[18:01:34] WARNING: C:/Jenkins/workspace/xgboost-win64_release_0.90/src/objective/regression_obj.cu:152: reg:linear is now deprecated in favor of reg:squarederror.\n",
      "Fitting 5 folds for each of 13 candidates, totalling 65 fits\n"
     ]
    },
    {
     "name": "stderr",
     "output_type": "stream",
     "text": [
      "[Parallel(n_jobs=-1)]: Using backend LokyBackend with 8 concurrent workers.\n",
      "[Parallel(n_jobs=-1)]: Done  16 tasks      | elapsed:  3.8min\n",
      "[Parallel(n_jobs=-1)]: Done  65 out of  65 | elapsed: 22.4min finished\n"
     ]
    },
    {
     "name": "stdout",
     "output_type": "stream",
     "text": [
      "[18:24:42] WARNING: C:/Jenkins/workspace/xgboost-win64_release_0.90/src/objective/regression_obj.cu:152: reg:linear is now deprecated in favor of reg:squarederror.\n",
      "Fitting 5 folds for each of 8 candidates, totalling 40 fits\n"
     ]
    },
    {
     "name": "stderr",
     "output_type": "stream",
     "text": [
      "[Parallel(n_jobs=-1)]: Using backend LokyBackend with 8 concurrent workers.\n",
      "[Parallel(n_jobs=-1)]: Done  16 tasks      | elapsed:  4.8min\n",
      "[Parallel(n_jobs=-1)]: Done  40 out of  40 | elapsed: 17.9min finished\n"
     ]
    },
    {
     "name": "stdout",
     "output_type": "stream",
     "text": [
      "[18:43:22] WARNING: C:/Jenkins/workspace/xgboost-win64_release_0.90/src/objective/regression_obj.cu:152: reg:linear is now deprecated in favor of reg:squarederror.\n",
      "Fitting 5 folds for each of 100 candidates, totalling 500 fits\n"
     ]
    },
    {
     "name": "stderr",
     "output_type": "stream",
     "text": [
      "[Parallel(n_jobs=-1)]: Using backend LokyBackend with 8 concurrent workers.\n",
      "[Parallel(n_jobs=-1)]: Done  16 tasks      | elapsed:  1.9min\n",
      "[Parallel(n_jobs=-1)]: Done 112 tasks      | elapsed: 13.8min\n",
      "[Parallel(n_jobs=-1)]: Done 272 tasks      | elapsed: 33.4min\n",
      "[Parallel(n_jobs=-1)]: Done 500 out of 500 | elapsed: 63.0min finished\n"
     ]
    },
    {
     "name": "stdout",
     "output_type": "stream",
     "text": [
      "[19:47:05] WARNING: C:/Jenkins/workspace/xgboost-win64_release_0.90/src/objective/regression_obj.cu:152: reg:linear is now deprecated in favor of reg:squarederror.\n",
      "[19:47:45] WARNING: C:/Jenkins/workspace/xgboost-win64_release_0.90/src/objective/regression_obj.cu:152: reg:linear is now deprecated in favor of reg:squarederror.\n"
     ]
    }
   ],
   "source": [
    "x_train = df_test.drop(stats_columns, axis=1)\n",
    "\n",
    "for column in stats_columns:\n",
    "    # Step 1\n",
    "    params = {\n",
    "        \"n_estimators\": [400, 450, 500, 550, 600, 650, 700, 750, 800, 850, 900, 950, 1000]\n",
    "    }\n",
    "    classifier = xgboost.XGBRegressor()\n",
    "    \n",
    "    y_train = df_test[column]\n",
    "    random_search = RandomizedSearchCV(classifier,param_distributions=params,scoring=\"neg_mean_absolute_error\",n_iter=13,n_jobs=-1,cv=5,verbose=3)\n",
    "    random_search.fit(x_train, y_train)\n",
    "    best = random_search.best_params_\n",
    "\n",
    "    classifier = xgboost.XGBRegressor(n_estimators=best[\"n_estimators\"])\n",
    "\n",
    "    # step 2\n",
    "    params = {\n",
    "        \"max_depth\": [3, 4, 5, 6, 7, 9, 10, 12]\n",
    "    }\n",
    "\n",
    "    random_search = RandomizedSearchCV(classifier,param_distributions=params,scoring=\"neg_mean_absolute_error\",n_iter=8,n_jobs=-1,cv=5,verbose=3)\n",
    "    random_search.fit(x_train, y_train)\n",
    "    best_test = random_search.best_params_\n",
    "\n",
    "    best[\"max_depth\"] = best_test[\"max_depth\"]\n",
    "    classifier = xgboost.XGBRegressor(n_estimators=best[\"n_estimators\"], max_depth = best[\"max_depth\"])\n",
    "    \n",
    "    \n",
    "    # Step 3\n",
    "    params = {\n",
    "        \"learning_rate\": [0.01, 0.03, 0.05, 0.07, 0.09, 0.1],\n",
    "        \"subsample\": [0.8, 0.85, 0.9, 0.95, 1],\n",
    "        \"gamma\": [0, 1, 5,],\n",
    "        \"colsample_bytree\": [0.3, 0.4, 0.5, 0.6, 0.7, 0.8],\n",
    "    }\n",
    "\n",
    "    random_search = RandomizedSearchCV(classifier,param_distributions=params,scoring=\"neg_mean_absolute_error\",n_iter=100,n_jobs=-1,cv=5,verbose=3)\n",
    "    random_search.fit(x_train, y_train)\n",
    "    best_test = random_search.best_params_\n",
    "\n",
    "    best[\"learning_rate\"] = best_test[\"learning_rate\"]\n",
    "    best[\"subsample\"] = best_test[\"subsample\"]\n",
    "    best[\"gamma\"] = best_test[\"gamma\"]\n",
    "    best[\"colsample_bytree\"] = best_test[\"colsample_bytree\"]\n",
    "\n",
    "    classifier = xgboost.XGBRegressor(n_estimators=best[\"n_estimators\"], max_depth = best[\"max_depth\"], learning_rate = best[\"learning_rate\"], subsample=best[\"subsample\"], gamma=best[\"gamma\"], colsample_bytree=best[\"colsample_bytree\"])\n",
    "    \n",
    "    classifier.fit(x_train,y_train)\n",
    "\n",
    "    with open('model_pickle_' + column + '.pickle', 'wb') as f:\n",
    "        pickle.dump(classifier, f)"
   ]
  },
  {
   "cell_type": "code",
   "execution_count": 134,
   "metadata": {},
   "outputs": [
    {
     "ename": "KeyError",
     "evalue": "\"['total_rebounds_game_x'] not found in axis\"",
     "output_type": "error",
     "traceback": [
      "\u001b[1;31m---------------------------------------------------------------------------\u001b[0m",
      "\u001b[1;31mKeyError\u001b[0m                                  Traceback (most recent call last)",
      "\u001b[1;32m<ipython-input-134-d8da10437080>\u001b[0m in \u001b[0;36m<module>\u001b[1;34m\u001b[0m\n\u001b[1;32m----> 1\u001b[1;33m \u001b[0mx_train\u001b[0m\u001b[1;33m.\u001b[0m\u001b[0mdrop\u001b[0m\u001b[1;33m(\u001b[0m\u001b[1;34m\"total_rebounds_game_x\"\u001b[0m\u001b[1;33m,\u001b[0m \u001b[0maxis\u001b[0m\u001b[1;33m=\u001b[0m\u001b[1;36m1\u001b[0m\u001b[1;33m)\u001b[0m\u001b[1;33m\u001b[0m\u001b[1;33m\u001b[0m\u001b[0m\n\u001b[0m",
      "\u001b[1;32m~\\Anaconda3\\envs\\PythonData\\lib\\site-packages\\pandas\\core\\frame.py\u001b[0m in \u001b[0;36mdrop\u001b[1;34m(self, labels, axis, index, columns, level, inplace, errors)\u001b[0m\n\u001b[0;32m   4100\u001b[0m             \u001b[0mlevel\u001b[0m\u001b[1;33m=\u001b[0m\u001b[0mlevel\u001b[0m\u001b[1;33m,\u001b[0m\u001b[1;33m\u001b[0m\u001b[1;33m\u001b[0m\u001b[0m\n\u001b[0;32m   4101\u001b[0m             \u001b[0minplace\u001b[0m\u001b[1;33m=\u001b[0m\u001b[0minplace\u001b[0m\u001b[1;33m,\u001b[0m\u001b[1;33m\u001b[0m\u001b[1;33m\u001b[0m\u001b[0m\n\u001b[1;32m-> 4102\u001b[1;33m             \u001b[0merrors\u001b[0m\u001b[1;33m=\u001b[0m\u001b[0merrors\u001b[0m\u001b[1;33m,\u001b[0m\u001b[1;33m\u001b[0m\u001b[1;33m\u001b[0m\u001b[0m\n\u001b[0m\u001b[0;32m   4103\u001b[0m         )\n\u001b[0;32m   4104\u001b[0m \u001b[1;33m\u001b[0m\u001b[0m\n",
      "\u001b[1;32m~\\Anaconda3\\envs\\PythonData\\lib\\site-packages\\pandas\\core\\generic.py\u001b[0m in \u001b[0;36mdrop\u001b[1;34m(self, labels, axis, index, columns, level, inplace, errors)\u001b[0m\n\u001b[0;32m   3912\u001b[0m         \u001b[1;32mfor\u001b[0m \u001b[0maxis\u001b[0m\u001b[1;33m,\u001b[0m \u001b[0mlabels\u001b[0m \u001b[1;32min\u001b[0m \u001b[0maxes\u001b[0m\u001b[1;33m.\u001b[0m\u001b[0mitems\u001b[0m\u001b[1;33m(\u001b[0m\u001b[1;33m)\u001b[0m\u001b[1;33m:\u001b[0m\u001b[1;33m\u001b[0m\u001b[1;33m\u001b[0m\u001b[0m\n\u001b[0;32m   3913\u001b[0m             \u001b[1;32mif\u001b[0m \u001b[0mlabels\u001b[0m \u001b[1;32mis\u001b[0m \u001b[1;32mnot\u001b[0m \u001b[1;32mNone\u001b[0m\u001b[1;33m:\u001b[0m\u001b[1;33m\u001b[0m\u001b[1;33m\u001b[0m\u001b[0m\n\u001b[1;32m-> 3914\u001b[1;33m                 \u001b[0mobj\u001b[0m \u001b[1;33m=\u001b[0m \u001b[0mobj\u001b[0m\u001b[1;33m.\u001b[0m\u001b[0m_drop_axis\u001b[0m\u001b[1;33m(\u001b[0m\u001b[0mlabels\u001b[0m\u001b[1;33m,\u001b[0m \u001b[0maxis\u001b[0m\u001b[1;33m,\u001b[0m \u001b[0mlevel\u001b[0m\u001b[1;33m=\u001b[0m\u001b[0mlevel\u001b[0m\u001b[1;33m,\u001b[0m \u001b[0merrors\u001b[0m\u001b[1;33m=\u001b[0m\u001b[0merrors\u001b[0m\u001b[1;33m)\u001b[0m\u001b[1;33m\u001b[0m\u001b[1;33m\u001b[0m\u001b[0m\n\u001b[0m\u001b[0;32m   3915\u001b[0m \u001b[1;33m\u001b[0m\u001b[0m\n\u001b[0;32m   3916\u001b[0m         \u001b[1;32mif\u001b[0m \u001b[0minplace\u001b[0m\u001b[1;33m:\u001b[0m\u001b[1;33m\u001b[0m\u001b[1;33m\u001b[0m\u001b[0m\n",
      "\u001b[1;32m~\\Anaconda3\\envs\\PythonData\\lib\\site-packages\\pandas\\core\\generic.py\u001b[0m in \u001b[0;36m_drop_axis\u001b[1;34m(self, labels, axis, level, errors)\u001b[0m\n\u001b[0;32m   3944\u001b[0m                 \u001b[0mnew_axis\u001b[0m \u001b[1;33m=\u001b[0m \u001b[0maxis\u001b[0m\u001b[1;33m.\u001b[0m\u001b[0mdrop\u001b[0m\u001b[1;33m(\u001b[0m\u001b[0mlabels\u001b[0m\u001b[1;33m,\u001b[0m \u001b[0mlevel\u001b[0m\u001b[1;33m=\u001b[0m\u001b[0mlevel\u001b[0m\u001b[1;33m,\u001b[0m \u001b[0merrors\u001b[0m\u001b[1;33m=\u001b[0m\u001b[0merrors\u001b[0m\u001b[1;33m)\u001b[0m\u001b[1;33m\u001b[0m\u001b[1;33m\u001b[0m\u001b[0m\n\u001b[0;32m   3945\u001b[0m             \u001b[1;32melse\u001b[0m\u001b[1;33m:\u001b[0m\u001b[1;33m\u001b[0m\u001b[1;33m\u001b[0m\u001b[0m\n\u001b[1;32m-> 3946\u001b[1;33m                 \u001b[0mnew_axis\u001b[0m \u001b[1;33m=\u001b[0m \u001b[0maxis\u001b[0m\u001b[1;33m.\u001b[0m\u001b[0mdrop\u001b[0m\u001b[1;33m(\u001b[0m\u001b[0mlabels\u001b[0m\u001b[1;33m,\u001b[0m \u001b[0merrors\u001b[0m\u001b[1;33m=\u001b[0m\u001b[0merrors\u001b[0m\u001b[1;33m)\u001b[0m\u001b[1;33m\u001b[0m\u001b[1;33m\u001b[0m\u001b[0m\n\u001b[0m\u001b[0;32m   3947\u001b[0m             \u001b[0mresult\u001b[0m \u001b[1;33m=\u001b[0m \u001b[0mself\u001b[0m\u001b[1;33m.\u001b[0m\u001b[0mreindex\u001b[0m\u001b[1;33m(\u001b[0m\u001b[1;33m**\u001b[0m\u001b[1;33m{\u001b[0m\u001b[0maxis_name\u001b[0m\u001b[1;33m:\u001b[0m \u001b[0mnew_axis\u001b[0m\u001b[1;33m}\u001b[0m\u001b[1;33m)\u001b[0m\u001b[1;33m\u001b[0m\u001b[1;33m\u001b[0m\u001b[0m\n\u001b[0;32m   3948\u001b[0m \u001b[1;33m\u001b[0m\u001b[0m\n",
      "\u001b[1;32m~\\Anaconda3\\envs\\PythonData\\lib\\site-packages\\pandas\\core\\indexes\\base.py\u001b[0m in \u001b[0;36mdrop\u001b[1;34m(self, labels, errors)\u001b[0m\n\u001b[0;32m   5338\u001b[0m         \u001b[1;32mif\u001b[0m \u001b[0mmask\u001b[0m\u001b[1;33m.\u001b[0m\u001b[0many\u001b[0m\u001b[1;33m(\u001b[0m\u001b[1;33m)\u001b[0m\u001b[1;33m:\u001b[0m\u001b[1;33m\u001b[0m\u001b[1;33m\u001b[0m\u001b[0m\n\u001b[0;32m   5339\u001b[0m             \u001b[1;32mif\u001b[0m \u001b[0merrors\u001b[0m \u001b[1;33m!=\u001b[0m \u001b[1;34m\"ignore\"\u001b[0m\u001b[1;33m:\u001b[0m\u001b[1;33m\u001b[0m\u001b[1;33m\u001b[0m\u001b[0m\n\u001b[1;32m-> 5340\u001b[1;33m                 \u001b[1;32mraise\u001b[0m \u001b[0mKeyError\u001b[0m\u001b[1;33m(\u001b[0m\u001b[1;34m\"{} not found in axis\"\u001b[0m\u001b[1;33m.\u001b[0m\u001b[0mformat\u001b[0m\u001b[1;33m(\u001b[0m\u001b[0mlabels\u001b[0m\u001b[1;33m[\u001b[0m\u001b[0mmask\u001b[0m\u001b[1;33m]\u001b[0m\u001b[1;33m)\u001b[0m\u001b[1;33m)\u001b[0m\u001b[1;33m\u001b[0m\u001b[1;33m\u001b[0m\u001b[0m\n\u001b[0m\u001b[0;32m   5341\u001b[0m             \u001b[0mindexer\u001b[0m \u001b[1;33m=\u001b[0m \u001b[0mindexer\u001b[0m\u001b[1;33m[\u001b[0m\u001b[1;33m~\u001b[0m\u001b[0mmask\u001b[0m\u001b[1;33m]\u001b[0m\u001b[1;33m\u001b[0m\u001b[1;33m\u001b[0m\u001b[0m\n\u001b[0;32m   5342\u001b[0m         \u001b[1;32mreturn\u001b[0m \u001b[0mself\u001b[0m\u001b[1;33m.\u001b[0m\u001b[0mdelete\u001b[0m\u001b[1;33m(\u001b[0m\u001b[0mindexer\u001b[0m\u001b[1;33m)\u001b[0m\u001b[1;33m\u001b[0m\u001b[1;33m\u001b[0m\u001b[0m\n",
      "\u001b[1;31mKeyError\u001b[0m: \"['total_rebounds_game_x'] not found in axis\""
     ]
    }
   ],
   "source": [
    "x_train.drop(\"total_rebounds_game_x\", axis=1)"
   ]
  },
  {
   "cell_type": "code",
   "execution_count": null,
   "metadata": {},
   "outputs": [],
   "source": []
  }
 ],
 "metadata": {
  "kernelspec": {
   "display_name": "Python [conda env:pythondata] *",
   "language": "python",
   "name": "conda-env-pythondata-py"
  },
  "language_info": {
   "codemirror_mode": {
    "name": "ipython",
    "version": 3
   },
   "file_extension": ".py",
   "mimetype": "text/x-python",
   "name": "python",
   "nbconvert_exporter": "python",
   "pygments_lexer": "ipython3",
   "version": "3.6.9"
  }
 },
 "nbformat": 4,
 "nbformat_minor": 2
}
